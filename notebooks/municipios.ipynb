{
 "cells": [
  {
   "cell_type": "code",
   "execution_count": 3,
   "metadata": {},
   "outputs": [],
   "source": [
    "import time\n",
    "from selenium import webdriver\n",
    "from selenium.webdriver.common.by import By\n",
    "from selenium.webdriver.support.ui import Select\n",
    "from selenium.webdriver.support.ui import WebDriverWait\n",
    "from selenium.webdriver.support import expected_conditions as EC\n",
    "from selenium.webdriver.chrome.service import Service\n",
    "import time\n",
    "import pandas as pd"
   ]
  },
  {
   "cell_type": "code",
   "execution_count": 14,
   "metadata": {},
   "outputs": [],
   "source": [
    "#Paso 2\n",
    "file_name = '../data_out/dataMunicipios.txt'\n",
    "\n",
    "def write_headers(data_list, file_name):\n",
    "    with open(file_name, 'w',encoding='utf-8') as file:\n",
    "        headers = data_list\n",
    "        file.write(', '.join(headers) + '\\n')\n",
    "\n",
    "    \n",
    "def write_headers_and_append(data_list, file_name):\n",
    "    # Abrir el archivo en modo de escritura (write mode) para escribir los encabezados    \n",
    "    # Abrir el archivo en modo de anexar (append mode) para agregar los registros\n",
    "    with open(file_name, 'a',encoding='utf-8') as file:\n",
    "        for data in data_list:\n",
    "            line = ', '.join([str(value) for value in data.values()])\n",
    "            file.write(line + '\\n')\n"
   ]
  },
  {
   "cell_type": "code",
   "execution_count": 15,
   "metadata": {},
   "outputs": [
    {
     "name": "stdout",
     "output_type": "stream",
     "text": [
      "[['Aguascalientes a/', '21.879822', '-102.296046', '1 878'], ['Asientos', '22.238317', '-102.089275', '2 167'], ['Calvillo', '21.846907', '-102.718750', '1 634'], ['Cosío', '22.366409', '-102.300044', '2 005'], ['El Llano', '21.918869', '-101.965307', '2 030'], ['Jesús María', '21.961273', '-102.343416', '1 877'], ['Pabellón de Arteaga', '22.149201', '-102.276541', '1 911'], ['Rincón de Romos', '22.229232', '-102.323068', '1 948'], ['San Francisco de los Romo', '22.072392', '-102.272678', '1 892'], ['San José de Gracia', '22.150216', '-102.415634', '2 051'], ['Tepezalá', '22.224227', '-102.166971', '2 101']]\n",
      "[['Ensenada', '31.808944', '-116.595134', '18'], ['Mexicali a/', '32.641176', '-115.475578', '0'], ['Playas de Rosarito', '32.363684', '-117.054459', '25'], ['San Felipe', '31.022920', '-114.838901', '10'], ['San Quintín', '30.556485', '-115.939061', '27'], ['Tecate', '32.572678', '-116.626550', '526'], ['Tijuana', '32.532460', '-117.018913', '22']]\n",
      "[['Comondú', '25.034635', '-111.673339', '49'], ['La Paz a/', '24.148745', '-110.306590', '31'], ['Loreto', '26.012778', '-111.343333', '1'], ['Los Cabos', '23.061591', '-109.694749', '17'], ['Mulegé', '27.336868', '-112.268274', '3']]\n"
     ]
    }
   ],
   "source": [
    "#Paso 3 de 3\n",
    "header=[\"estado_id\",\"estado\",\"municipio\",\"latitud\",\"longitud\",\"altitud\"]\n",
    "write_headers(header,file_name)\n",
    "#estado=[\"Aguascalientes\",\"Baja California\",\"Baja California Sur\",\"Campeche\",\"Coahuila de Zaragoza\",\"Colima\",\"Chiapas\",\"Chihuaua\",\"Durango\",\"Guanajuato\",\"Guerrero\",\"Hidalgo\",\"Jalisco\",\"México\",\"Michoacán de Ocampo\",\"Morelos\",\"Nayarit\",\"Nuevo León\",\"Oaxaca\",\"Puebla\",\"Querétaro\",\"Quintana Roo\",\"San Luis Potosí\",\"Sinaloa\",\"Sonora\",\"Tabasco\",\"Tamaulipas\",\"Tlaxcala\",\"Veracruz de Ignacio de la LLave\",\"Yucatán\",\"Zacatecas\"]\n",
    "estado=[\"Aguascalientes\",\"Baja California\",\"Baja California Sur\"]\n",
    "for i,edo in enumerate(estado):\n",
    "    # Configuración del WebDriver (ajusta el path según tu sistema)\n",
    "    #service = Service(executable_path='D:/Home/Cursos/Henry/WEB_scraping/chromedriver-win64/chromedriver.exe')\n",
    "    service = Service(executable_path='D:/Home/Mis_proyectos/web_scraping_inegi/chrome/chromedriver.exe')\n",
    "    \n",
    "    options = webdriver.ChromeOptions()\n",
    "    driver = webdriver.Chrome(service=service, options=options)\n",
    "    # Abre la página web\n",
    "    driver.get('https://www.inegi.org.mx/app/cuadroentidad/CDMX/2023/01/1_2')\n",
    "\n",
    "    # Espera a que la página se cargue\n",
    "    time.sleep(2)\n",
    "\n",
    "    # Encuentra y hace clic en el botón que maneja el data-target  por class: btn btn-default dropdown-toggle\n",
    "    button = driver.find_element(By.CSS_SELECTOR, 'button[data-target=\"#seleccion_entidad\"]')\n",
    "    button.click()\n",
    "\n",
    "    # Espera a que los dropdowns sean visibles\n",
    "    wait = WebDriverWait(driver, 10)\n",
    "    dropdown1 = wait.until(EC.visibility_of_element_located((By.ID, 'id_entidad')))\n",
    "\n",
    "    # Selecciona valores en los dropdowns\n",
    "    select1 = Select(dropdown1)\n",
    "    #select1.select_by_visible_text('Aguascalientes')\n",
    "    select1.select_by_visible_text(edo)\n",
    "\n",
    "    wait = WebDriverWait(driver, 50)\n",
    "    time.sleep(10)\n",
    "    dropdown2 = wait.until(EC.element_to_be_clickable((By.ID, 'cuadro_temas')))\n",
    "    select2 = Select(dropdown2)\n",
    "\n",
    "    select2.select_by_visible_text('División geoestadística municipal, coordenadas geográficas y altitud de las cabeceras municipales / Al 31 de diciembre de 2023')\n",
    "\n",
    "    # Espera un momento para ver los cambios (opcional)\n",
    "    time.sleep(2)\n",
    "\n",
    "    div_cuerpo = driver.find_element(By.ID, 'cuerpo')\n",
    "    table = div_cuerpo.find_element(By.CSS_SELECTOR, 'table.Ancho100')\n",
    "\n",
    "    rows = table.find_elements(By.TAG_NAME, 'tr')\n",
    "    data=[]\n",
    "    for row in rows:\n",
    "        cells = row.find_elements(By.TAG_NAME, 'td')\n",
    "        if len(cells)==5 and cells[0].text != '' and cells[4].text!='':\n",
    "            data.append([cell.text for cell in cells if cell.text!=''])\n",
    "    driver.quit()\n",
    "    print(data)\n",
    "    mun=dict()\n",
    "    lista=[]\n",
    "    municipios=pd.Series()\n",
    "    for item in data:\n",
    "        mun={\"estado_id\":i+1,\"estado\":edo,\"municipio\":item[0],\"latitud\":item[1],\"longitud\":item[2],\"altitud\":item[3]}\n",
    "        lista.append(mun)\n",
    "    write_headers_and_append(lista, file_name)\n"
   ]
  }
 ],
 "metadata": {
  "kernelspec": {
   "display_name": ".venv",
   "language": "python",
   "name": "python3"
  },
  "language_info": {
   "codemirror_mode": {
    "name": "ipython",
    "version": 3
   },
   "file_extension": ".py",
   "mimetype": "text/x-python",
   "name": "python",
   "nbconvert_exporter": "python",
   "pygments_lexer": "ipython3",
   "version": "3.10.0"
  }
 },
 "nbformat": 4,
 "nbformat_minor": 2
}
